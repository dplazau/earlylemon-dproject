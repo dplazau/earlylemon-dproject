{
 "cells": [
  {
   "cell_type": "code",
   "execution_count": 1,
   "metadata": {},
   "outputs": [],
   "source": [
    "import numpy as np\n",
    "import pandas as pd\n",
    "import seaborn as sns\n",
    "import matplotlib.pyplot as plt\n",
    "\n",
    "import glob\n",
    "from pprint import pprint\n",
    "from datetime import datetime\n",
    "\n",
    "%matplotlib inline"
   ]
  },
  {
   "cell_type": "code",
   "execution_count": 2,
   "metadata": {},
   "outputs": [],
   "source": [
    "DIRE_PATH = './csv-files/'"
   ]
  },
  {
   "cell_type": "code",
   "execution_count": 3,
   "metadata": {},
   "outputs": [],
   "source": [
    "col_names = ['name', 'level', 'id', 'pv', 'ogv', 'pgv', 'auto-send', 'actions']\n",
    "df = pd.DataFrame(columns = col_names)\n",
    "all_files = glob.glob(DIRE_PATH + \"/*.csv\")\n",
    "for filename in all_files:\n",
    "    data = pd.read_csv(filename)\n",
    "    data = pd.DataFrame(data[:][3:].values, columns = col_names)\n",
    "    filename = filename.split(DIRE_PATH)[1]\n",
    "    filename = filename.split('.')\n",
    "    data['date'] = filename[0]\n",
    "    frame = [df, data]\n",
    "    df = pd.concat(frame)"
   ]
  },
  {
   "cell_type": "code",
   "execution_count": 4,
   "metadata": {},
   "outputs": [],
   "source": [
    "df['date'] = df['date'].apply(lambda x: datetime(2000 + int(x.split('-')[1]), int(x.split('-')[0]), 1))"
   ]
  },
  {
   "cell_type": "code",
   "execution_count": 5,
   "metadata": {},
   "outputs": [],
   "source": [
    "df.drop('actions', axis=1 ,inplace=True)"
   ]
  },
  {
   "cell_type": "code",
   "execution_count": 6,
   "metadata": {},
   "outputs": [],
   "source": [
    "df['auto-send'] = df['auto-send'].fillna(0)\n",
    "df['auto-send'] = df['auto-send'].apply(lambda x: True if int(x) > 0 else False)"
   ]
  },
  {
   "cell_type": "code",
   "execution_count": 7,
   "metadata": {},
   "outputs": [],
   "source": [
    "money_col = ['pv', 'ogv', 'pgv']\n",
    "for col in money_col:\n",
    "    df[col] = df[col].apply(lambda x: str(x).replace(',', ''))\n",
    "    df[col] = df[col].apply(lambda x: float(x))"
   ]
  },
  {
   "cell_type": "code",
   "execution_count": 8,
   "metadata": {},
   "outputs": [],
   "source": [
    "df[['id', 'level']] = df[['id', 'level']].astype(int)"
   ]
  },
  {
   "cell_type": "code",
   "execution_count": 9,
   "metadata": {},
   "outputs": [],
   "source": [
    "df['name'] = df['name'].astype(str)"
   ]
  },
  {
   "cell_type": "code",
   "execution_count": 10,
   "metadata": {},
   "outputs": [],
   "source": [
    "df.reset_index(drop=True, inplace=True)"
   ]
  },
  {
   "cell_type": "code",
   "execution_count": 11,
   "metadata": {},
   "outputs": [
    {
     "data": {
      "text/plain": [
       "array(['JIMENA PLAZA', 'ISABEL TERESA PLAZA URRUTIA',\n",
       "       'MONIKA ROSITA POTRATZ', 'AMANDA FERNANDEZ',\n",
       "       'JOHANNA ECHEVERRI LOZANO',\n",
       "       'MONICA MARIELA REYES RANGEL DE STRÜMPELL', 'HEIKE RUDEL-WENDLAND',\n",
       "       'MARÍA JESÚS BUSTOS', 'SUSANA PANEA', 'MARAHRENS, ANKE',\n",
       "       'ANA VICTORIA HUESPE', 'NATALIA DALUICIS',\n",
       "       'DANIELA CAROLINA CAMARGO HERNÁNDEZ',\n",
       "       'LUZ NATHALIA GUERRERO ORBES', 'JAIME ARTURO GUERRERO PÉREZ',\n",
       "       'WOLF LOEFFELHOLZ', 'BARBARA VON LOEFFELHOLZ',\n",
       "       'CLAUDIA REGINA CONTRERAS', 'CRISTINA BUCARDO',\n",
       "       'CAROLINA DOMÍNGUEZ ALARCÓN', 'ALARCON GUTIERREZ, MARIA DEL PILAR',\n",
       "       'VICTORIA EUGENIA PLAZA', 'MARTA BARBA SERRANO', 'ELENA PALACIOS',\n",
       "       'LOURDES GÓMEZ MARTÍN', 'ANA ZORITA', 'ROCÍO ZORITA',\n",
       "       'CLARA INES TROCONIS', 'ISABEL GRATEROL', 'MILAGROS RIO',\n",
       "       'VICKY PLAZA', 'EVA JULIAN', 'CRIS GONZALEZ CAMPINS',\n",
       "       'CARMEN M PLAZA', 'ANA MARGARITA AURRECOECHEA',\n",
       "       'ELIA CAROLINA PLAZA', 'MARIANGELA GULL', 'JESSICA ROSSI',\n",
       "       'MARIA SOLEDAD HERNANDEZ RODRIGUEZ', 'GINA URRUTIA'], dtype=object)"
      ]
     },
     "execution_count": 11,
     "metadata": {},
     "output_type": "execute_result"
    }
   ],
   "source": [
    "df['name'].unique()"
   ]
  },
  {
   "cell_type": "code",
   "execution_count": 31,
   "metadata": {},
   "outputs": [
    {
     "data": {
      "text/plain": [
       "name                JIMENA PLAZA\n",
       "level                          0\n",
       "id                      18871846\n",
       "pv                        108.75\n",
       "ogv                       2155.5\n",
       "pgv                       2155.5\n",
       "auto-send                   True\n",
       "date         2020-05-01 00:00:00\n",
       "Name: 36, dtype: object"
      ]
     },
     "execution_count": 31,
     "metadata": {},
     "output_type": "execute_result"
    }
   ],
   "source": [
    "df.iloc[36]"
   ]
  },
  {
   "cell_type": "code",
   "execution_count": 33,
   "metadata": {},
   "outputs": [],
   "source": [
    "business_total_time = (df['date'].max()-df['date'].min()).days\n",
    "total_pv = df['pv'].sum()\n",
    "members = df['name'].nunique()"
   ]
  },
  {
   "cell_type": "code",
   "execution_count": 34,
   "metadata": {},
   "outputs": [
    {
     "data": {
      "text/plain": [
       "4.938271604938271"
      ]
     },
     "execution_count": 34,
     "metadata": {},
     "output_type": "execute_result"
    }
   ],
   "source": [
    "(members / business_total_time)*30"
   ]
  },
  {
   "cell_type": "code",
   "execution_count": 35,
   "metadata": {},
   "outputs": [
    {
     "data": {
      "text/plain": [
       "243"
      ]
     },
     "execution_count": 35,
     "metadata": {},
     "output_type": "execute_result"
    }
   ],
   "source": [
    "business_total_time"
   ]
  },
  {
   "cell_type": "code",
   "execution_count": null,
   "metadata": {},
   "outputs": [],
   "source": []
  },
  {
   "cell_type": "code",
   "execution_count": 36,
   "metadata": {},
   "outputs": [],
   "source": [
    "compression_opts = dict(method='zip',\n",
    "                        archive_name='out.csv')  \n",
    "df.to_csv('out.zip',\n",
    "          index=True,\n",
    "          compression=compression_opts)"
   ]
  },
  {
   "cell_type": "code",
   "execution_count": 18,
   "metadata": {},
   "outputs": [],
   "source": []
  },
  {
   "cell_type": "code",
   "execution_count": null,
   "metadata": {},
   "outputs": [],
   "source": []
  },
  {
   "cell_type": "code",
   "execution_count": null,
   "metadata": {},
   "outputs": [],
   "source": []
  }
 ],
 "metadata": {
  "kernelspec": {
   "display_name": "Python 3",
   "language": "python",
   "name": "python3"
  },
  "language_info": {
   "codemirror_mode": {
    "name": "ipython",
    "version": 3
   },
   "file_extension": ".py",
   "mimetype": "text/x-python",
   "name": "python",
   "nbconvert_exporter": "python",
   "pygments_lexer": "ipython3",
   "version": "3.7.6"
  }
 },
 "nbformat": 4,
 "nbformat_minor": 4
}
